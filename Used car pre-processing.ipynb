{
 "cells": [
  {
   "cell_type": "code",
   "execution_count": 75,
   "id": "fbc7f9a8",
   "metadata": {},
   "outputs": [],
   "source": [
    "import pandas as pd"
   ]
  },
  {
   "cell_type": "code",
   "execution_count": 76,
   "id": "ac40c4e0",
   "metadata": {},
   "outputs": [
    {
     "data": {
      "text/html": [
       "<div>\n",
       "<style scoped>\n",
       "    .dataframe tbody tr th:only-of-type {\n",
       "        vertical-align: middle;\n",
       "    }\n",
       "\n",
       "    .dataframe tbody tr th {\n",
       "        vertical-align: top;\n",
       "    }\n",
       "\n",
       "    .dataframe thead th {\n",
       "        text-align: right;\n",
       "    }\n",
       "</style>\n",
       "<table border=\"1\" class=\"dataframe\">\n",
       "  <thead>\n",
       "    <tr style=\"text-align: right;\">\n",
       "      <th></th>\n",
       "      <th>Unnamed: 0</th>\n",
       "      <th>car_name</th>\n",
       "      <th>registration_year</th>\n",
       "      <th>insurance_validity</th>\n",
       "      <th>fuel_type</th>\n",
       "      <th>seats</th>\n",
       "      <th>kms_driven</th>\n",
       "      <th>ownsership</th>\n",
       "      <th>transmission</th>\n",
       "      <th>manufacturing_year</th>\n",
       "      <th>mileage(kmpl)</th>\n",
       "      <th>engine(cc)</th>\n",
       "      <th>max_power(bhp)</th>\n",
       "      <th>torque(Nm)</th>\n",
       "      <th>price(in lakhs)</th>\n",
       "    </tr>\n",
       "  </thead>\n",
       "  <tbody>\n",
       "    <tr>\n",
       "      <th>0</th>\n",
       "      <td>0</td>\n",
       "      <td>2017 Mercedes-Benz S-Class S400</td>\n",
       "      <td>Jul-17</td>\n",
       "      <td>Comprehensive</td>\n",
       "      <td>Petrol</td>\n",
       "      <td>5</td>\n",
       "      <td>56000</td>\n",
       "      <td>First Owner</td>\n",
       "      <td>Automatic</td>\n",
       "      <td>2017</td>\n",
       "      <td>7.81</td>\n",
       "      <td>2996.0</td>\n",
       "      <td>2996.0</td>\n",
       "      <td>333.0</td>\n",
       "      <td>63.75</td>\n",
       "    </tr>\n",
       "    <tr>\n",
       "      <th>1</th>\n",
       "      <td>1</td>\n",
       "      <td>2020 Nissan Magnite Turbo CVT XV Premium Opt BSVI</td>\n",
       "      <td>Jan-21</td>\n",
       "      <td>Comprehensive</td>\n",
       "      <td>Petrol</td>\n",
       "      <td>5</td>\n",
       "      <td>30615</td>\n",
       "      <td>First Owner</td>\n",
       "      <td>Automatic</td>\n",
       "      <td>2020</td>\n",
       "      <td>17.40</td>\n",
       "      <td>999.0</td>\n",
       "      <td>999.0</td>\n",
       "      <td>9863.0</td>\n",
       "      <td>8.99</td>\n",
       "    </tr>\n",
       "    <tr>\n",
       "      <th>2</th>\n",
       "      <td>2</td>\n",
       "      <td>2018 BMW X1 sDrive 20d xLine</td>\n",
       "      <td>Sep-18</td>\n",
       "      <td>Comprehensive</td>\n",
       "      <td>Diesel</td>\n",
       "      <td>5</td>\n",
       "      <td>24000</td>\n",
       "      <td>First Owner</td>\n",
       "      <td>Automatic</td>\n",
       "      <td>2018</td>\n",
       "      <td>20.68</td>\n",
       "      <td>1995.0</td>\n",
       "      <td>1995.0</td>\n",
       "      <td>188.0</td>\n",
       "      <td>23.75</td>\n",
       "    </tr>\n",
       "    <tr>\n",
       "      <th>3</th>\n",
       "      <td>3</td>\n",
       "      <td>2019 Kia Seltos GTX Plus</td>\n",
       "      <td>Dec-19</td>\n",
       "      <td>Comprehensive</td>\n",
       "      <td>Petrol</td>\n",
       "      <td>5</td>\n",
       "      <td>18378</td>\n",
       "      <td>First Owner</td>\n",
       "      <td>Manual</td>\n",
       "      <td>2019</td>\n",
       "      <td>16.50</td>\n",
       "      <td>1353.0</td>\n",
       "      <td>1353.0</td>\n",
       "      <td>13808.0</td>\n",
       "      <td>13.56</td>\n",
       "    </tr>\n",
       "    <tr>\n",
       "      <th>4</th>\n",
       "      <td>4</td>\n",
       "      <td>2019 Skoda Superb LK 1.8 TSI AT</td>\n",
       "      <td>Aug-19</td>\n",
       "      <td>Comprehensive</td>\n",
       "      <td>Petrol</td>\n",
       "      <td>5</td>\n",
       "      <td>44900</td>\n",
       "      <td>First Owner</td>\n",
       "      <td>Automatic</td>\n",
       "      <td>2019</td>\n",
       "      <td>14.67</td>\n",
       "      <td>1798.0</td>\n",
       "      <td>1798.0</td>\n",
       "      <td>17746.0</td>\n",
       "      <td>24.00</td>\n",
       "    </tr>\n",
       "  </tbody>\n",
       "</table>\n",
       "</div>"
      ],
      "text/plain": [
       "   Unnamed: 0                                           car_name  \\\n",
       "0           0                    2017 Mercedes-Benz S-Class S400   \n",
       "1           1  2020 Nissan Magnite Turbo CVT XV Premium Opt BSVI   \n",
       "2           2                       2018 BMW X1 sDrive 20d xLine   \n",
       "3           3                           2019 Kia Seltos GTX Plus   \n",
       "4           4                    2019 Skoda Superb LK 1.8 TSI AT   \n",
       "\n",
       "  registration_year insurance_validity fuel_type  seats  kms_driven  \\\n",
       "0            Jul-17      Comprehensive    Petrol      5       56000   \n",
       "1            Jan-21      Comprehensive    Petrol      5       30615   \n",
       "2            Sep-18      Comprehensive    Diesel      5       24000   \n",
       "3            Dec-19      Comprehensive    Petrol      5       18378   \n",
       "4            Aug-19      Comprehensive    Petrol      5       44900   \n",
       "\n",
       "    ownsership transmission manufacturing_year  mileage(kmpl)  engine(cc)  \\\n",
       "0  First Owner    Automatic               2017           7.81      2996.0   \n",
       "1  First Owner    Automatic               2020          17.40       999.0   \n",
       "2  First Owner    Automatic               2018          20.68      1995.0   \n",
       "3  First Owner       Manual               2019          16.50      1353.0   \n",
       "4  First Owner    Automatic               2019          14.67      1798.0   \n",
       "\n",
       "   max_power(bhp)  torque(Nm)  price(in lakhs)  \n",
       "0          2996.0       333.0            63.75  \n",
       "1           999.0      9863.0             8.99  \n",
       "2          1995.0       188.0            23.75  \n",
       "3          1353.0     13808.0            13.56  \n",
       "4          1798.0     17746.0            24.00  "
      ]
     },
     "execution_count": 76,
     "metadata": {},
     "output_type": "execute_result"
    }
   ],
   "source": [
    "df = pd.read_csv('Used Car Dataset.csv')\n",
    "df.head()"
   ]
  },
  {
   "cell_type": "code",
   "execution_count": 77,
   "id": "634389c4",
   "metadata": {},
   "outputs": [
    {
     "data": {
      "text/plain": [
       "(1553, 14)"
      ]
     },
     "execution_count": 77,
     "metadata": {},
     "output_type": "execute_result"
    }
   ],
   "source": [
    "df = df.loc[:, ~df.columns.str.contains('^Unnamed')]\n",
    "df.shape"
   ]
  },
  {
   "cell_type": "markdown",
   "id": "db146fb1",
   "metadata": {},
   "source": [
    "## Check str in each col"
   ]
  },
  {
   "cell_type": "code",
   "execution_count": 78,
   "id": "9b7cbc99",
   "metadata": {},
   "outputs": [
    {
     "name": "stdout",
     "output_type": "stream",
     "text": [
      "(6,)\n",
      "['Comprehensive' 'Third Party insurance' 'Zero Dep' 'Third Party' 'Petrol'\n",
      " 'Not Available']\n"
     ]
    }
   ],
   "source": [
    "insur = df['insurance_validity'].unique()\n",
    "print(insur.shape)\n",
    "print(insur)"
   ]
  },
  {
   "cell_type": "code",
   "execution_count": 79,
   "id": "ddb85597",
   "metadata": {},
   "outputs": [
    {
     "name": "stdout",
     "output_type": "stream",
     "text": [
      "(4,)\n",
      "['Petrol' 'Diesel' 'CNG' '5 Seats']\n"
     ]
    }
   ],
   "source": [
    "fuel_type = df['fuel_type'].unique()\n",
    "print(fuel_type.shape)\n",
    "print(fuel_type)"
   ]
  },
  {
   "cell_type": "code",
   "execution_count": 80,
   "id": "df6a4c8c",
   "metadata": {
    "scrolled": true
   },
   "outputs": [
    {
     "name": "stdout",
     "output_type": "stream",
     "text": [
      "(6,)\n",
      "[    5     6     7     4     8 67000]\n"
     ]
    }
   ],
   "source": [
    "seats = df['seats'].unique()\n",
    "# change num to str\n",
    "df['seats'] = df['seats'].astype(str)\n",
    "print(seats.shape)\n",
    "print(seats)"
   ]
  },
  {
   "cell_type": "code",
   "execution_count": 81,
   "id": "e885276f",
   "metadata": {
    "scrolled": false
   },
   "outputs": [
    {
     "name": "stdout",
     "output_type": "stream",
     "text": [
      "(22,)\n",
      "['First Owner' 'Second Owner' 'Third Owner' '2993 cc' '1461 cc' '998 cc'\n",
      " '1995 cc' '1451 cc' '1998 cc' '1498 cc' '1497 cc' '1996 cc' '1950 cc'\n",
      " '2013' 'Fifth Owner' '1199 cc' '1248 cc' '999 cc' '1197 cc' '1984 cc'\n",
      " '2999 cc' '1968 cc']\n"
     ]
    }
   ],
   "source": [
    "ownsership = df['ownsership'].unique()\n",
    "print(ownsership.shape)\n",
    "print(ownsership)"
   ]
  },
  {
   "cell_type": "code",
   "execution_count": 82,
   "id": "11792b74",
   "metadata": {
    "scrolled": false
   },
   "outputs": [
    {
     "name": "stdout",
     "output_type": "stream",
     "text": [
      "(13,)\n",
      "['Automatic' 'Manual' '2017' '2014' '2023' '2020' '2021' '2011' '2022'\n",
      " 'Power Windows Front' '2018' '2015' '2016']\n"
     ]
    }
   ],
   "source": [
    "transmission = df['transmission'].unique()\n",
    "print(transmission.shape)\n",
    "print(transmission)"
   ]
  },
  {
   "cell_type": "markdown",
   "id": "4391c441",
   "metadata": {},
   "source": [
    "## Drop str"
   ]
  },
  {
   "cell_type": "code",
   "execution_count": 83,
   "id": "efeb295c",
   "metadata": {},
   "outputs": [
    {
     "data": {
      "text/plain": [
       "(1503, 14)"
      ]
     },
     "execution_count": 83,
     "metadata": {},
     "output_type": "execute_result"
    }
   ],
   "source": [
    "df_drop_str = df[df.insurance_validity != 'Petrol']\n",
    "\n",
    "df_drop_str = df[df.fuel_type != '5 Seats']\n",
    "\n",
    "df_drop_str = df[df.seats != '67000']\n",
    "\n",
    "owner_drop = ['2993 cc', '1461 cc', '998 cc','1995 cc', '1451 cc', '1998 cc', '1498 cc', '1497 cc', '1996 cc', '1950 cc','2013', '1199 cc', '1248 cc', '999 cc', '1197 cc', '1984 cc','2999 cc', '1968 cc']\n",
    "df_drop_str = df[~df['ownsership'].isin(owner_drop)]\n",
    "\n",
    "trans_drop = ['2017', '2014', '2023', '2020', '2021', '2011', '2022', 'Power Windows Front', '2018', '2015', '2016']\n",
    "df_drop_str = df[~df['transmission'].isin(trans_drop)]\n",
    "\n",
    "df_drop_str.shape"
   ]
  },
  {
   "cell_type": "code",
   "execution_count": 84,
   "id": "11a61487",
   "metadata": {},
   "outputs": [
    {
     "data": {
      "text/plain": [
       "(1499, 14)"
      ]
     },
     "execution_count": 84,
     "metadata": {},
     "output_type": "execute_result"
    }
   ],
   "source": [
    "# drop row which contains null\n",
    "df_drop_str = df_drop_str.dropna()\n",
    "df_drop_str.shape"
   ]
  },
  {
   "cell_type": "code",
   "execution_count": 85,
   "id": "eac6bb2c",
   "metadata": {},
   "outputs": [
    {
     "data": {
      "text/html": [
       "<div>\n",
       "<style scoped>\n",
       "    .dataframe tbody tr th:only-of-type {\n",
       "        vertical-align: middle;\n",
       "    }\n",
       "\n",
       "    .dataframe tbody tr th {\n",
       "        vertical-align: top;\n",
       "    }\n",
       "\n",
       "    .dataframe thead th {\n",
       "        text-align: right;\n",
       "    }\n",
       "</style>\n",
       "<table border=\"1\" class=\"dataframe\">\n",
       "  <thead>\n",
       "    <tr style=\"text-align: right;\">\n",
       "      <th></th>\n",
       "      <th>car_name</th>\n",
       "      <th>registration_year</th>\n",
       "      <th>insurance_validity</th>\n",
       "      <th>fuel_type</th>\n",
       "      <th>seats</th>\n",
       "      <th>kms_driven</th>\n",
       "      <th>ownsership</th>\n",
       "      <th>transmission</th>\n",
       "      <th>manufacturing_year</th>\n",
       "      <th>mileage(kmpl)</th>\n",
       "      <th>engine(cc)</th>\n",
       "      <th>max_power(bhp)</th>\n",
       "      <th>torque(Nm)</th>\n",
       "      <th>price(in lakhs)</th>\n",
       "    </tr>\n",
       "  </thead>\n",
       "  <tbody>\n",
       "    <tr>\n",
       "      <th>0</th>\n",
       "      <td>2017 Mercedes-Benz S-Class S400</td>\n",
       "      <td>Jul-17</td>\n",
       "      <td>Comprehensive</td>\n",
       "      <td>Petrol</td>\n",
       "      <td>5</td>\n",
       "      <td>56000</td>\n",
       "      <td>First Owner</td>\n",
       "      <td>Automatic</td>\n",
       "      <td>2017</td>\n",
       "      <td>7.81</td>\n",
       "      <td>2996.0</td>\n",
       "      <td>2996.0</td>\n",
       "      <td>333.0</td>\n",
       "      <td>63.75</td>\n",
       "    </tr>\n",
       "    <tr>\n",
       "      <th>1</th>\n",
       "      <td>2020 Nissan Magnite Turbo CVT XV Premium Opt BSVI</td>\n",
       "      <td>Jan-21</td>\n",
       "      <td>Comprehensive</td>\n",
       "      <td>Petrol</td>\n",
       "      <td>5</td>\n",
       "      <td>30615</td>\n",
       "      <td>First Owner</td>\n",
       "      <td>Automatic</td>\n",
       "      <td>2020</td>\n",
       "      <td>17.40</td>\n",
       "      <td>999.0</td>\n",
       "      <td>999.0</td>\n",
       "      <td>9863.0</td>\n",
       "      <td>8.99</td>\n",
       "    </tr>\n",
       "    <tr>\n",
       "      <th>2</th>\n",
       "      <td>2018 BMW X1 sDrive 20d xLine</td>\n",
       "      <td>Sep-18</td>\n",
       "      <td>Comprehensive</td>\n",
       "      <td>Diesel</td>\n",
       "      <td>5</td>\n",
       "      <td>24000</td>\n",
       "      <td>First Owner</td>\n",
       "      <td>Automatic</td>\n",
       "      <td>2018</td>\n",
       "      <td>20.68</td>\n",
       "      <td>1995.0</td>\n",
       "      <td>1995.0</td>\n",
       "      <td>188.0</td>\n",
       "      <td>23.75</td>\n",
       "    </tr>\n",
       "    <tr>\n",
       "      <th>3</th>\n",
       "      <td>2019 Kia Seltos GTX Plus</td>\n",
       "      <td>Dec-19</td>\n",
       "      <td>Comprehensive</td>\n",
       "      <td>Petrol</td>\n",
       "      <td>5</td>\n",
       "      <td>18378</td>\n",
       "      <td>First Owner</td>\n",
       "      <td>Manual</td>\n",
       "      <td>2019</td>\n",
       "      <td>16.50</td>\n",
       "      <td>1353.0</td>\n",
       "      <td>1353.0</td>\n",
       "      <td>13808.0</td>\n",
       "      <td>13.56</td>\n",
       "    </tr>\n",
       "    <tr>\n",
       "      <th>4</th>\n",
       "      <td>2019 Skoda Superb LK 1.8 TSI AT</td>\n",
       "      <td>Aug-19</td>\n",
       "      <td>Comprehensive</td>\n",
       "      <td>Petrol</td>\n",
       "      <td>5</td>\n",
       "      <td>44900</td>\n",
       "      <td>First Owner</td>\n",
       "      <td>Automatic</td>\n",
       "      <td>2019</td>\n",
       "      <td>14.67</td>\n",
       "      <td>1798.0</td>\n",
       "      <td>1798.0</td>\n",
       "      <td>17746.0</td>\n",
       "      <td>24.00</td>\n",
       "    </tr>\n",
       "  </tbody>\n",
       "</table>\n",
       "</div>"
      ],
      "text/plain": [
       "                                            car_name registration_year  \\\n",
       "0                    2017 Mercedes-Benz S-Class S400            Jul-17   \n",
       "1  2020 Nissan Magnite Turbo CVT XV Premium Opt BSVI            Jan-21   \n",
       "2                       2018 BMW X1 sDrive 20d xLine            Sep-18   \n",
       "3                           2019 Kia Seltos GTX Plus            Dec-19   \n",
       "4                    2019 Skoda Superb LK 1.8 TSI AT            Aug-19   \n",
       "\n",
       "  insurance_validity fuel_type seats  kms_driven   ownsership transmission  \\\n",
       "0      Comprehensive    Petrol     5       56000  First Owner    Automatic   \n",
       "1      Comprehensive    Petrol     5       30615  First Owner    Automatic   \n",
       "2      Comprehensive    Diesel     5       24000  First Owner    Automatic   \n",
       "3      Comprehensive    Petrol     5       18378  First Owner       Manual   \n",
       "4      Comprehensive    Petrol     5       44900  First Owner    Automatic   \n",
       "\n",
       "  manufacturing_year  mileage(kmpl)  engine(cc)  max_power(bhp)  torque(Nm)  \\\n",
       "0               2017           7.81      2996.0          2996.0       333.0   \n",
       "1               2020          17.40       999.0           999.0      9863.0   \n",
       "2               2018          20.68      1995.0          1995.0       188.0   \n",
       "3               2019          16.50      1353.0          1353.0     13808.0   \n",
       "4               2019          14.67      1798.0          1798.0     17746.0   \n",
       "\n",
       "   price(in lakhs)  \n",
       "0            63.75  \n",
       "1             8.99  \n",
       "2            23.75  \n",
       "3            13.56  \n",
       "4            24.00  "
      ]
     },
     "execution_count": 85,
     "metadata": {},
     "output_type": "execute_result"
    }
   ],
   "source": [
    "df_drop_str.head()"
   ]
  }
 ],
 "metadata": {
  "kernelspec": {
   "display_name": "Python 3 (ipykernel)",
   "language": "python",
   "name": "python3"
  },
  "language_info": {
   "codemirror_mode": {
    "name": "ipython",
    "version": 3
   },
   "file_extension": ".py",
   "mimetype": "text/x-python",
   "name": "python",
   "nbconvert_exporter": "python",
   "pygments_lexer": "ipython3",
   "version": "3.9.12"
  }
 },
 "nbformat": 4,
 "nbformat_minor": 5
}
