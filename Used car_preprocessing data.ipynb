{
 "cells": [
  {
   "cell_type": "code",
   "execution_count": 119,
   "id": "837a07a7",
   "metadata": {},
   "outputs": [],
   "source": [
    "import pandas as pd"
   ]
  },
  {
   "cell_type": "markdown",
   "id": "339dbcb0",
   "metadata": {},
   "source": [
    "## Read csv file"
   ]
  },
  {
   "cell_type": "code",
   "execution_count": 120,
   "id": "b1651694",
   "metadata": {
    "scrolled": true
   },
   "outputs": [
    {
     "data": {
      "text/html": [
       "<div>\n",
       "<style scoped>\n",
       "    .dataframe tbody tr th:only-of-type {\n",
       "        vertical-align: middle;\n",
       "    }\n",
       "\n",
       "    .dataframe tbody tr th {\n",
       "        vertical-align: top;\n",
       "    }\n",
       "\n",
       "    .dataframe thead th {\n",
       "        text-align: right;\n",
       "    }\n",
       "</style>\n",
       "<table border=\"1\" class=\"dataframe\">\n",
       "  <thead>\n",
       "    <tr style=\"text-align: right;\">\n",
       "      <th></th>\n",
       "      <th>Unnamed: 0</th>\n",
       "      <th>car_name</th>\n",
       "      <th>registration_year</th>\n",
       "      <th>insurance_validity</th>\n",
       "      <th>fuel_type</th>\n",
       "      <th>seats</th>\n",
       "      <th>kms_driven</th>\n",
       "      <th>ownsership</th>\n",
       "      <th>transmission</th>\n",
       "      <th>manufacturing_year</th>\n",
       "      <th>mileage(kmpl)</th>\n",
       "      <th>engine(cc)</th>\n",
       "      <th>max_power(bhp)</th>\n",
       "      <th>torque(Nm)</th>\n",
       "      <th>price(in lakhs)</th>\n",
       "    </tr>\n",
       "  </thead>\n",
       "  <tbody>\n",
       "    <tr>\n",
       "      <th>0</th>\n",
       "      <td>0</td>\n",
       "      <td>2017 Mercedes-Benz S-Class S400</td>\n",
       "      <td>Jul-17</td>\n",
       "      <td>Comprehensive</td>\n",
       "      <td>Petrol</td>\n",
       "      <td>5</td>\n",
       "      <td>56000</td>\n",
       "      <td>First Owner</td>\n",
       "      <td>Automatic</td>\n",
       "      <td>2017</td>\n",
       "      <td>7.81</td>\n",
       "      <td>2996.0</td>\n",
       "      <td>2996.0</td>\n",
       "      <td>333.0</td>\n",
       "      <td>63.75</td>\n",
       "    </tr>\n",
       "    <tr>\n",
       "      <th>1</th>\n",
       "      <td>1</td>\n",
       "      <td>2020 Nissan Magnite Turbo CVT XV Premium Opt BSVI</td>\n",
       "      <td>Jan-21</td>\n",
       "      <td>Comprehensive</td>\n",
       "      <td>Petrol</td>\n",
       "      <td>5</td>\n",
       "      <td>30615</td>\n",
       "      <td>First Owner</td>\n",
       "      <td>Automatic</td>\n",
       "      <td>2020</td>\n",
       "      <td>17.40</td>\n",
       "      <td>999.0</td>\n",
       "      <td>999.0</td>\n",
       "      <td>9863.0</td>\n",
       "      <td>8.99</td>\n",
       "    </tr>\n",
       "    <tr>\n",
       "      <th>2</th>\n",
       "      <td>2</td>\n",
       "      <td>2018 BMW X1 sDrive 20d xLine</td>\n",
       "      <td>Sep-18</td>\n",
       "      <td>Comprehensive</td>\n",
       "      <td>Diesel</td>\n",
       "      <td>5</td>\n",
       "      <td>24000</td>\n",
       "      <td>First Owner</td>\n",
       "      <td>Automatic</td>\n",
       "      <td>2018</td>\n",
       "      <td>20.68</td>\n",
       "      <td>1995.0</td>\n",
       "      <td>1995.0</td>\n",
       "      <td>188.0</td>\n",
       "      <td>23.75</td>\n",
       "    </tr>\n",
       "    <tr>\n",
       "      <th>3</th>\n",
       "      <td>3</td>\n",
       "      <td>2019 Kia Seltos GTX Plus</td>\n",
       "      <td>Dec-19</td>\n",
       "      <td>Comprehensive</td>\n",
       "      <td>Petrol</td>\n",
       "      <td>5</td>\n",
       "      <td>18378</td>\n",
       "      <td>First Owner</td>\n",
       "      <td>Manual</td>\n",
       "      <td>2019</td>\n",
       "      <td>16.50</td>\n",
       "      <td>1353.0</td>\n",
       "      <td>1353.0</td>\n",
       "      <td>13808.0</td>\n",
       "      <td>13.56</td>\n",
       "    </tr>\n",
       "    <tr>\n",
       "      <th>4</th>\n",
       "      <td>4</td>\n",
       "      <td>2019 Skoda Superb LK 1.8 TSI AT</td>\n",
       "      <td>Aug-19</td>\n",
       "      <td>Comprehensive</td>\n",
       "      <td>Petrol</td>\n",
       "      <td>5</td>\n",
       "      <td>44900</td>\n",
       "      <td>First Owner</td>\n",
       "      <td>Automatic</td>\n",
       "      <td>2019</td>\n",
       "      <td>14.67</td>\n",
       "      <td>1798.0</td>\n",
       "      <td>1798.0</td>\n",
       "      <td>17746.0</td>\n",
       "      <td>24.00</td>\n",
       "    </tr>\n",
       "  </tbody>\n",
       "</table>\n",
       "</div>"
      ],
      "text/plain": [
       "   Unnamed: 0                                           car_name  \\\n",
       "0           0                    2017 Mercedes-Benz S-Class S400   \n",
       "1           1  2020 Nissan Magnite Turbo CVT XV Premium Opt BSVI   \n",
       "2           2                       2018 BMW X1 sDrive 20d xLine   \n",
       "3           3                           2019 Kia Seltos GTX Plus   \n",
       "4           4                    2019 Skoda Superb LK 1.8 TSI AT   \n",
       "\n",
       "  registration_year insurance_validity fuel_type  seats  kms_driven  \\\n",
       "0            Jul-17      Comprehensive    Petrol      5       56000   \n",
       "1            Jan-21      Comprehensive    Petrol      5       30615   \n",
       "2            Sep-18      Comprehensive    Diesel      5       24000   \n",
       "3            Dec-19      Comprehensive    Petrol      5       18378   \n",
       "4            Aug-19      Comprehensive    Petrol      5       44900   \n",
       "\n",
       "    ownsership transmission manufacturing_year  mileage(kmpl)  engine(cc)  \\\n",
       "0  First Owner    Automatic               2017           7.81      2996.0   \n",
       "1  First Owner    Automatic               2020          17.40       999.0   \n",
       "2  First Owner    Automatic               2018          20.68      1995.0   \n",
       "3  First Owner       Manual               2019          16.50      1353.0   \n",
       "4  First Owner    Automatic               2019          14.67      1798.0   \n",
       "\n",
       "   max_power(bhp)  torque(Nm)  price(in lakhs)  \n",
       "0          2996.0       333.0            63.75  \n",
       "1           999.0      9863.0             8.99  \n",
       "2          1995.0       188.0            23.75  \n",
       "3          1353.0     13808.0            13.56  \n",
       "4          1798.0     17746.0            24.00  "
      ]
     },
     "execution_count": 120,
     "metadata": {},
     "output_type": "execute_result"
    }
   ],
   "source": [
    "df_ori = pd.read_csv('Used Car Dataset.csv')\n",
    "df_ori.head()"
   ]
  },
  {
   "cell_type": "markdown",
   "id": "9abfabc7",
   "metadata": {},
   "source": [
    "## Drop unnecessary column and explore data size"
   ]
  },
  {
   "cell_type": "code",
   "execution_count": 104,
   "id": "35ac4cec",
   "metadata": {
    "scrolled": false
   },
   "outputs": [
    {
     "name": "stdout",
     "output_type": "stream",
     "text": [
      "(1553, 14)\n"
     ]
    }
   ],
   "source": [
    "df_ori = df.loc[:, ~df_ori.columns.str.contains('^Unnamed')]\n",
    "print(df_ori.shape)"
   ]
  },
  {
   "cell_type": "markdown",
   "id": "7b3068ae",
   "metadata": {},
   "source": [
    "## Explore data"
   ]
  },
  {
   "cell_type": "code",
   "execution_count": 121,
   "id": "0c92ae70",
   "metadata": {},
   "outputs": [
    {
     "name": "stdout",
     "output_type": "stream",
     "text": [
      "(925,)\n"
     ]
    }
   ],
   "source": [
    "unique_categories = df_ori['car_name'].unique()\n",
    "print(unique_categories.shape)\n",
    "# print(unique_categories)"
   ]
  },
  {
   "cell_type": "markdown",
   "id": "aa250b3e",
   "metadata": {},
   "source": [
    "## Split car_name column because it contains information that require to analyze"
   ]
  },
  {
   "cell_type": "code",
   "execution_count": 122,
   "id": "ccd29280",
   "metadata": {
    "scrolled": false
   },
   "outputs": [
    {
     "name": "stdout",
     "output_type": "stream",
     "text": [
      "0       Mercedes-Benz\n",
      "1              Nissan\n",
      "2                 BMW\n",
      "3                 Kia\n",
      "4               Skoda\n",
      "            ...      \n",
      "1548          Hyundai\n",
      "1549          Renault\n",
      "1550            Honda\n",
      "1551       Volkswagen\n",
      "1552           Maruti\n",
      "Name: car_name, Length: 1553, dtype: object\n"
     ]
    }
   ],
   "source": [
    "# Split the 'Text' column into multiple columns based on space and keep only the 2nd word\n",
    "df_brand = df_ori['car_name'].str.split().str[1]\n",
    "\n",
    "# Display the result\n",
    "print(df_brand)\n"
   ]
  },
  {
   "cell_type": "code",
   "execution_count": 123,
   "id": "fb6321cb",
   "metadata": {
    "scrolled": false
   },
   "outputs": [
    {
     "name": "stdout",
     "output_type": "stream",
     "text": [
      "0                                S-Class S400\n",
      "1       Magnite Turbo CVT XV Premium Opt BSVI\n",
      "2                         X1 sDrive 20d xLine\n",
      "3                             Seltos GTX Plus\n",
      "4                        Superb LK 1.8 TSI AT\n",
      "                        ...                  \n",
      "1548              Creta SX Opt Diesel AT BSVI\n",
      "1549                    KWID 1.0 RXL Opt BSVI\n",
      "1550                            WR-V i-VTEC S\n",
      "1551                 Polo 1.0 MPI Comfortline\n",
      "1552                          Swift Dzire VXI\n",
      "Name: car_name, Length: 1553, dtype: object\n"
     ]
    }
   ],
   "source": [
    "# Split the 'Text' column into multiple columns based on space and keep only the 2nd word\n",
    "df_model = df_ori['car_name'].str.split(n=2).str[2]\n",
    "\n",
    "# Display the result\n",
    "print(df_model)\n"
   ]
  },
  {
   "cell_type": "markdown",
   "id": "eeb09489",
   "metadata": {},
   "source": [
    "## Insert car brand into dataframe"
   ]
  },
  {
   "cell_type": "code",
   "execution_count": 124,
   "id": "f282bbd2",
   "metadata": {
    "scrolled": true
   },
   "outputs": [
    {
     "data": {
      "text/html": [
       "<div>\n",
       "<style scoped>\n",
       "    .dataframe tbody tr th:only-of-type {\n",
       "        vertical-align: middle;\n",
       "    }\n",
       "\n",
       "    .dataframe tbody tr th {\n",
       "        vertical-align: top;\n",
       "    }\n",
       "\n",
       "    .dataframe thead th {\n",
       "        text-align: right;\n",
       "    }\n",
       "</style>\n",
       "<table border=\"1\" class=\"dataframe\">\n",
       "  <thead>\n",
       "    <tr style=\"text-align: right;\">\n",
       "      <th></th>\n",
       "      <th>Unnamed: 0</th>\n",
       "      <th>car_brand</th>\n",
       "      <th>car_model</th>\n",
       "      <th>car_name</th>\n",
       "      <th>registration_year</th>\n",
       "      <th>insurance_validity</th>\n",
       "      <th>fuel_type</th>\n",
       "      <th>seats</th>\n",
       "      <th>kms_driven</th>\n",
       "      <th>ownsership</th>\n",
       "      <th>transmission</th>\n",
       "      <th>manufacturing_year</th>\n",
       "      <th>mileage(kmpl)</th>\n",
       "      <th>engine(cc)</th>\n",
       "      <th>max_power(bhp)</th>\n",
       "      <th>torque(Nm)</th>\n",
       "      <th>price(in lakhs)</th>\n",
       "    </tr>\n",
       "  </thead>\n",
       "  <tbody>\n",
       "    <tr>\n",
       "      <th>0</th>\n",
       "      <td>0</td>\n",
       "      <td>Mercedes-Benz</td>\n",
       "      <td>S-Class S400</td>\n",
       "      <td>2017 Mercedes-Benz S-Class S400</td>\n",
       "      <td>Jul-17</td>\n",
       "      <td>Comprehensive</td>\n",
       "      <td>Petrol</td>\n",
       "      <td>5</td>\n",
       "      <td>56000</td>\n",
       "      <td>First Owner</td>\n",
       "      <td>Automatic</td>\n",
       "      <td>2017</td>\n",
       "      <td>7.81</td>\n",
       "      <td>2996.0</td>\n",
       "      <td>2996.0</td>\n",
       "      <td>333.0</td>\n",
       "      <td>63.75</td>\n",
       "    </tr>\n",
       "    <tr>\n",
       "      <th>1</th>\n",
       "      <td>1</td>\n",
       "      <td>Nissan</td>\n",
       "      <td>Magnite Turbo CVT XV Premium Opt BSVI</td>\n",
       "      <td>2020 Nissan Magnite Turbo CVT XV Premium Opt BSVI</td>\n",
       "      <td>Jan-21</td>\n",
       "      <td>Comprehensive</td>\n",
       "      <td>Petrol</td>\n",
       "      <td>5</td>\n",
       "      <td>30615</td>\n",
       "      <td>First Owner</td>\n",
       "      <td>Automatic</td>\n",
       "      <td>2020</td>\n",
       "      <td>17.40</td>\n",
       "      <td>999.0</td>\n",
       "      <td>999.0</td>\n",
       "      <td>9863.0</td>\n",
       "      <td>8.99</td>\n",
       "    </tr>\n",
       "    <tr>\n",
       "      <th>2</th>\n",
       "      <td>2</td>\n",
       "      <td>BMW</td>\n",
       "      <td>X1 sDrive 20d xLine</td>\n",
       "      <td>2018 BMW X1 sDrive 20d xLine</td>\n",
       "      <td>Sep-18</td>\n",
       "      <td>Comprehensive</td>\n",
       "      <td>Diesel</td>\n",
       "      <td>5</td>\n",
       "      <td>24000</td>\n",
       "      <td>First Owner</td>\n",
       "      <td>Automatic</td>\n",
       "      <td>2018</td>\n",
       "      <td>20.68</td>\n",
       "      <td>1995.0</td>\n",
       "      <td>1995.0</td>\n",
       "      <td>188.0</td>\n",
       "      <td>23.75</td>\n",
       "    </tr>\n",
       "    <tr>\n",
       "      <th>3</th>\n",
       "      <td>3</td>\n",
       "      <td>Kia</td>\n",
       "      <td>Seltos GTX Plus</td>\n",
       "      <td>2019 Kia Seltos GTX Plus</td>\n",
       "      <td>Dec-19</td>\n",
       "      <td>Comprehensive</td>\n",
       "      <td>Petrol</td>\n",
       "      <td>5</td>\n",
       "      <td>18378</td>\n",
       "      <td>First Owner</td>\n",
       "      <td>Manual</td>\n",
       "      <td>2019</td>\n",
       "      <td>16.50</td>\n",
       "      <td>1353.0</td>\n",
       "      <td>1353.0</td>\n",
       "      <td>13808.0</td>\n",
       "      <td>13.56</td>\n",
       "    </tr>\n",
       "    <tr>\n",
       "      <th>4</th>\n",
       "      <td>4</td>\n",
       "      <td>Skoda</td>\n",
       "      <td>Superb LK 1.8 TSI AT</td>\n",
       "      <td>2019 Skoda Superb LK 1.8 TSI AT</td>\n",
       "      <td>Aug-19</td>\n",
       "      <td>Comprehensive</td>\n",
       "      <td>Petrol</td>\n",
       "      <td>5</td>\n",
       "      <td>44900</td>\n",
       "      <td>First Owner</td>\n",
       "      <td>Automatic</td>\n",
       "      <td>2019</td>\n",
       "      <td>14.67</td>\n",
       "      <td>1798.0</td>\n",
       "      <td>1798.0</td>\n",
       "      <td>17746.0</td>\n",
       "      <td>24.00</td>\n",
       "    </tr>\n",
       "  </tbody>\n",
       "</table>\n",
       "</div>"
      ],
      "text/plain": [
       "   Unnamed: 0      car_brand                              car_model  \\\n",
       "0           0  Mercedes-Benz                           S-Class S400   \n",
       "1           1         Nissan  Magnite Turbo CVT XV Premium Opt BSVI   \n",
       "2           2            BMW                    X1 sDrive 20d xLine   \n",
       "3           3            Kia                        Seltos GTX Plus   \n",
       "4           4          Skoda                   Superb LK 1.8 TSI AT   \n",
       "\n",
       "                                            car_name registration_year  \\\n",
       "0                    2017 Mercedes-Benz S-Class S400            Jul-17   \n",
       "1  2020 Nissan Magnite Turbo CVT XV Premium Opt BSVI            Jan-21   \n",
       "2                       2018 BMW X1 sDrive 20d xLine            Sep-18   \n",
       "3                           2019 Kia Seltos GTX Plus            Dec-19   \n",
       "4                    2019 Skoda Superb LK 1.8 TSI AT            Aug-19   \n",
       "\n",
       "  insurance_validity fuel_type  seats  kms_driven   ownsership transmission  \\\n",
       "0      Comprehensive    Petrol      5       56000  First Owner    Automatic   \n",
       "1      Comprehensive    Petrol      5       30615  First Owner    Automatic   \n",
       "2      Comprehensive    Diesel      5       24000  First Owner    Automatic   \n",
       "3      Comprehensive    Petrol      5       18378  First Owner       Manual   \n",
       "4      Comprehensive    Petrol      5       44900  First Owner    Automatic   \n",
       "\n",
       "  manufacturing_year  mileage(kmpl)  engine(cc)  max_power(bhp)  torque(Nm)  \\\n",
       "0               2017           7.81      2996.0          2996.0       333.0   \n",
       "1               2020          17.40       999.0           999.0      9863.0   \n",
       "2               2018          20.68      1995.0          1995.0       188.0   \n",
       "3               2019          16.50      1353.0          1353.0     13808.0   \n",
       "4               2019          14.67      1798.0          1798.0     17746.0   \n",
       "\n",
       "   price(in lakhs)  \n",
       "0            63.75  \n",
       "1             8.99  \n",
       "2            23.75  \n",
       "3            13.56  \n",
       "4            24.00  "
      ]
     },
     "execution_count": 124,
     "metadata": {},
     "output_type": "execute_result"
    }
   ],
   "source": [
    "df_ori.insert(loc=1, column='car_brand', value=df_brand)\n",
    "df_ori.insert(loc=2, column='car_model', value=df_model)\n",
    "df_ori.head()"
   ]
  },
  {
   "cell_type": "markdown",
   "id": "76a26d08",
   "metadata": {},
   "source": [
    "## Test : query unique car brand"
   ]
  },
  {
   "cell_type": "code",
   "execution_count": 125,
   "id": "85a90d91",
   "metadata": {},
   "outputs": [
    {
     "name": "stdout",
     "output_type": "stream",
     "text": [
      "(28,)\n",
      "['Mercedes-Benz' 'Nissan' 'BMW' 'Kia' 'Skoda' 'Honda' 'Hyundai' 'Tata'\n",
      " 'Renault' 'Ford' 'Jeep' 'MG' 'Maruti' 'Audi' 'Toyota' 'Jaguar'\n",
      " 'Volkswagen' 'Mahindra' 'Volvo' 'Land' 'Isuzu' 'Mitsubishi' 'Porsche'\n",
      " 'Datsun' 'Lexus' 'Mini' 'Fiat' 'Lamborghini']\n"
     ]
    }
   ],
   "source": [
    "car_brand = df_ori['car_brand'].unique()\n",
    "print(car_brand.shape)\n",
    "print(car_brand)"
   ]
  },
  {
   "cell_type": "markdown",
   "id": "9f6cc0e6",
   "metadata": {},
   "source": [
    "## Write csv file (export)"
   ]
  },
  {
   "cell_type": "code",
   "execution_count": 117,
   "id": "073f27b2",
   "metadata": {},
   "outputs": [
    {
     "name": "stdout",
     "output_type": "stream",
     "text": [
      "Data has been written to output_used car.csv\n"
     ]
    }
   ],
   "source": [
    "# Specify the file path\n",
    "file_path = 'output_used car.csv'\n",
    "\n",
    "# Write the DataFrame to a CSV file\n",
    "df_ori.to_csv(file_path, index=False)\n",
    "\n",
    "print(f'Data has been written to {file_path}')\n"
   ]
  },
  {
   "cell_type": "code",
   "execution_count": null,
   "id": "f536e815",
   "metadata": {},
   "outputs": [],
   "source": []
  }
 ],
 "metadata": {
  "kernelspec": {
   "display_name": "Python 3 (ipykernel)",
   "language": "python",
   "name": "python3"
  },
  "language_info": {
   "codemirror_mode": {
    "name": "ipython",
    "version": 3
   },
   "file_extension": ".py",
   "mimetype": "text/x-python",
   "name": "python",
   "nbconvert_exporter": "python",
   "pygments_lexer": "ipython3",
   "version": "3.9.12"
  }
 },
 "nbformat": 4,
 "nbformat_minor": 5
}
